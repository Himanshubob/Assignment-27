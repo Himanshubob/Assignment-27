{
 "cells": [
  {
   "cell_type": "markdown",
   "id": "3e78f7e9",
   "metadata": {},
   "source": [
    "# Q1: What are the Probability Mass Function (PMF) and Probability Density Function (PDF)? Explain with an example.\n"
   ]
  },
  {
   "cell_type": "markdown",
   "id": "4242d182",
   "metadata": {},
   "source": [
    "# pmf is used to dicreat randam varivale  and pdf is used to the continuous randam varivale pmf= tossing the coin  \n",
    "# pdf= hight in the a school student "
   ]
  },
  {
   "cell_type": "markdown",
   "id": "0b61c6c8",
   "metadata": {},
   "source": [
    "# Q2: What is Cumulative Density Function (CDF)? Explain with an example. Why CDF is used?"
   ]
  },
  {
   "cell_type": "markdown",
   "id": "3a9e54ac",
   "metadata": {},
   "source": [
    "#  the cdf  calculatres the cumulative probabilty for a given a x - value .use the cdf to determine the liklihood that a random observation taken from the population will be less that or eqal to a particlar value "
   ]
  },
  {
   "cell_type": "markdown",
   "id": "a8a6705e",
   "metadata": {},
   "source": [
    "# Q3: What are some examples of situations where the normal distribution might be used as a model?Explain how the parameters of the normal distribution relate to the shape of the distribution."
   ]
  },
  {
   "cell_type": "markdown",
   "id": "22677396",
   "metadata": {},
   "source": [
    "# thye normal distribution is type of contiinuous probabilty distribution for a real value randam variable \n",
    "# prameter N(u,sigma)\n",
    "# u = mean , sigma = variacen \n",
    "# "
   ]
  },
  {
   "cell_type": "markdown",
   "id": "53edf31c",
   "metadata": {},
   "source": [
    "# Q4: Explain the importance of Normal Distribution. Give a few real-life examples of Normal Distribution."
   ]
  },
  {
   "cell_type": "markdown",
   "id": "51e0a41c",
   "metadata": {},
   "source": [
    "# ans.. the normal distribution is data arenge the parfactaly and  crreat the parfact graph of the given data \n",
    "# ex.. visiting in a hospital par hours  human"
   ]
  },
  {
   "cell_type": "markdown",
   "id": "897f6804",
   "metadata": {},
   "source": [
    "# Q5: What is Bernaulli Distribution? Give an Example. What is the difference between Bernoulli Distribution and Binomial Distribution?"
   ]
  },
  {
   "cell_type": "markdown",
   "id": "b377dd51",
   "metadata": {},
   "source": [
    "# bernaulli distribution is worke the discxrete probabilty distribution (pmf)\n",
    "# and the out comes is binary \n",
    "#  ex = tossing the coin\n",
    " # bernoulli is worke the single coin  and binomal is worke the number of time accor the coin "
   ]
  },
  {
   "cell_type": "markdown",
   "id": "eba6fc83",
   "metadata": {},
   "source": [
    "# Q6. Consider a dataset with a mean of 50 and a standard deviation of 10. If we assume that the dataset is normally distributed, what is the probability that a randomly selected observation will be greater than 60? Use the appropriate formula and show your calculations."
   ]
  },
  {
   "cell_type": "markdown",
   "id": "d9748103",
   "metadata": {},
   "source": [
    "# ans the given is mean =50 and std =10 \n",
    "# pro(x>60)\n",
    "# we konw that the z score test   z= (xi- mean)/ std\n",
    "#    60 - 50)/10=1 \n",
    "# accoding the z table is = .8413 \n",
    "# and the questio is above of 60 so  =1- .8413= .1587"
   ]
  },
  {
   "cell_type": "markdown",
   "id": "60ad4a18",
   "metadata": {},
   "source": [
    "# Q7: Explain uniform Distribution with an example."
   ]
  },
  {
   "cell_type": "markdown",
   "id": "27defb3a",
   "metadata": {},
   "source": [
    "# ans . uniform distribution are two type  \n",
    "# 1.discreat distribution  \n",
    "# 2. continuous distribution \n",
    "# notaion  U(a,b)  - infinity <a<b< infinity  \n",
    "# mean= 1/2(a+b) \n",
    "# varianse= 1/12( b-a)^2\n",
    "# discreat distribution \n",
    "# notaion  U(a,b) \n",
    "# parametre  a<=b\n",
    "# mean= (a+b)/2\n",
    "                                            "
   ]
  },
  {
   "cell_type": "markdown",
   "id": "490bbdd6",
   "metadata": {},
   "source": [
    "# Q8: What is the z score? State the importance of the z score."
   ]
  },
  {
   "cell_type": "markdown",
   "id": "71862305",
   "metadata": {},
   "source": [
    "#  z- score   is convart  the normal distributio  to standard distribution  \n",
    "# formula  z- score=(xi- mean) /std "
   ]
  },
  {
   "cell_type": "markdown",
   "id": "851eddea",
   "metadata": {},
   "source": [
    "# Q9: What is Central Limit Theorem? State the significance of the Central Limit Theorem."
   ]
  },
  {
   "cell_type": "markdown",
   "id": "2a34db67",
   "metadata": {},
   "source": [
    "# ans . the central limit theorem says that the sampling  distribution the  mean will always be normally distributed "
   ]
  },
  {
   "cell_type": "markdown",
   "id": "424580ed",
   "metadata": {},
   "source": [
    "# Q10: State the assumptions of the Central Limit Theorem."
   ]
  },
  {
   "cell_type": "markdown",
   "id": "f6ce1131",
   "metadata": {},
   "source": [
    "#  accoding the center limit theorm  culcaet  the many samle size and find the mean   and the  find the mean of all sample size  and the all smaple mean  is also distibuted  the normal distribution. "
   ]
  },
  {
   "cell_type": "code",
   "execution_count": null,
   "id": "c65af85b",
   "metadata": {},
   "outputs": [],
   "source": []
  }
 ],
 "metadata": {
  "kernelspec": {
   "display_name": "Python 3 (ipykernel)",
   "language": "python",
   "name": "python3"
  },
  "language_info": {
   "codemirror_mode": {
    "name": "ipython",
    "version": 3
   },
   "file_extension": ".py",
   "mimetype": "text/x-python",
   "name": "python",
   "nbconvert_exporter": "python",
   "pygments_lexer": "ipython3",
   "version": "3.10.9"
  }
 },
 "nbformat": 4,
 "nbformat_minor": 5
}
